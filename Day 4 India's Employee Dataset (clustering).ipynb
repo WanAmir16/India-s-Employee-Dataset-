{
 "cells": [
  {
   "cell_type": "code",
   "execution_count": 57,
   "id": "bbb52ee7",
   "metadata": {},
   "outputs": [],
   "source": [
    "import pandas as pd\n",
    "import numpy as np\n",
    "\n",
    "import matplotlib.pyplot as plt\n",
    "import seaborn as sns"
   ]
  },
  {
   "cell_type": "code",
   "execution_count": 62,
   "id": "3cbd8c81",
   "metadata": {},
   "outputs": [
    {
     "data": {
      "text/html": [
       "<div>\n",
       "<style scoped>\n",
       "    .dataframe tbody tr th:only-of-type {\n",
       "        vertical-align: middle;\n",
       "    }\n",
       "\n",
       "    .dataframe tbody tr th {\n",
       "        vertical-align: top;\n",
       "    }\n",
       "\n",
       "    .dataframe thead th {\n",
       "        text-align: right;\n",
       "    }\n",
       "</style>\n",
       "<table border=\"1\" class=\"dataframe\">\n",
       "  <thead>\n",
       "    <tr style=\"text-align: right;\">\n",
       "      <th></th>\n",
       "      <th>Education</th>\n",
       "      <th>JoiningYear</th>\n",
       "      <th>City</th>\n",
       "      <th>PaymentTier</th>\n",
       "      <th>Age</th>\n",
       "      <th>Gender</th>\n",
       "      <th>EverBenched</th>\n",
       "      <th>ExperienceInCurrentDomain</th>\n",
       "      <th>LeaveOrNot</th>\n",
       "    </tr>\n",
       "  </thead>\n",
       "  <tbody>\n",
       "    <tr>\n",
       "      <th>0</th>\n",
       "      <td>Bachelors</td>\n",
       "      <td>2017</td>\n",
       "      <td>Bangalore</td>\n",
       "      <td>3</td>\n",
       "      <td>34</td>\n",
       "      <td>Male</td>\n",
       "      <td>No</td>\n",
       "      <td>0</td>\n",
       "      <td>0</td>\n",
       "    </tr>\n",
       "    <tr>\n",
       "      <th>1</th>\n",
       "      <td>Bachelors</td>\n",
       "      <td>2013</td>\n",
       "      <td>Pune</td>\n",
       "      <td>1</td>\n",
       "      <td>28</td>\n",
       "      <td>Female</td>\n",
       "      <td>No</td>\n",
       "      <td>3</td>\n",
       "      <td>1</td>\n",
       "    </tr>\n",
       "    <tr>\n",
       "      <th>2</th>\n",
       "      <td>Bachelors</td>\n",
       "      <td>2014</td>\n",
       "      <td>New Delhi</td>\n",
       "      <td>3</td>\n",
       "      <td>38</td>\n",
       "      <td>Female</td>\n",
       "      <td>No</td>\n",
       "      <td>2</td>\n",
       "      <td>0</td>\n",
       "    </tr>\n",
       "    <tr>\n",
       "      <th>3</th>\n",
       "      <td>Masters</td>\n",
       "      <td>2016</td>\n",
       "      <td>Bangalore</td>\n",
       "      <td>3</td>\n",
       "      <td>27</td>\n",
       "      <td>Male</td>\n",
       "      <td>No</td>\n",
       "      <td>5</td>\n",
       "      <td>1</td>\n",
       "    </tr>\n",
       "    <tr>\n",
       "      <th>4</th>\n",
       "      <td>Masters</td>\n",
       "      <td>2017</td>\n",
       "      <td>Pune</td>\n",
       "      <td>3</td>\n",
       "      <td>24</td>\n",
       "      <td>Male</td>\n",
       "      <td>Yes</td>\n",
       "      <td>2</td>\n",
       "      <td>1</td>\n",
       "    </tr>\n",
       "  </tbody>\n",
       "</table>\n",
       "</div>"
      ],
      "text/plain": [
       "   Education  JoiningYear       City  PaymentTier  Age  Gender EverBenched  \\\n",
       "0  Bachelors         2017  Bangalore            3   34    Male          No   \n",
       "1  Bachelors         2013       Pune            1   28  Female          No   \n",
       "2  Bachelors         2014  New Delhi            3   38  Female          No   \n",
       "3    Masters         2016  Bangalore            3   27    Male          No   \n",
       "4    Masters         2017       Pune            3   24    Male         Yes   \n",
       "\n",
       "   ExperienceInCurrentDomain  LeaveOrNot  \n",
       "0                          0           0  \n",
       "1                          3           1  \n",
       "2                          2           0  \n",
       "3                          5           1  \n",
       "4                          2           1  "
      ]
     },
     "execution_count": 62,
     "metadata": {},
     "output_type": "execute_result"
    }
   ],
   "source": [
    "df_Bangalore = pd.read_csv('Employee.csv')\n",
    "df.head(5)"
   ]
  },
  {
   "cell_type": "code",
   "execution_count": 63,
   "id": "0c5e3318",
   "metadata": {},
   "outputs": [
    {
     "name": "stdout",
     "output_type": "stream",
     "text": [
      "<class 'pandas.core.frame.DataFrame'>\n",
      "RangeIndex: 4653 entries, 0 to 4652\n",
      "Data columns (total 9 columns):\n",
      " #   Column                     Non-Null Count  Dtype \n",
      "---  ------                     --------------  ----- \n",
      " 0   Education                  4653 non-null   object\n",
      " 1   JoiningYear                4653 non-null   int64 \n",
      " 2   City                       4653 non-null   object\n",
      " 3   PaymentTier                4653 non-null   int64 \n",
      " 4   Age                        4653 non-null   int64 \n",
      " 5   Gender                     4653 non-null   object\n",
      " 6   EverBenched                4653 non-null   object\n",
      " 7   ExperienceInCurrentDomain  4653 non-null   int64 \n",
      " 8   LeaveOrNot                 4653 non-null   int64 \n",
      "dtypes: int64(5), object(4)\n",
      "memory usage: 327.3+ KB\n"
     ]
    }
   ],
   "source": [
    "df.info()"
   ]
  },
  {
   "cell_type": "code",
   "execution_count": 64,
   "id": "192f21aa",
   "metadata": {},
   "outputs": [
    {
     "data": {
      "text/plain": [
       "Index(['Education', 'JoiningYear', 'City', 'PaymentTier', 'Age', 'Gender',\n",
       "       'EverBenched', 'ExperienceInCurrentDomain', 'LeaveOrNot'],\n",
       "      dtype='object')"
      ]
     },
     "execution_count": 64,
     "metadata": {},
     "output_type": "execute_result"
    }
   ],
   "source": [
    "df.columns"
   ]
  },
  {
   "cell_type": "code",
   "execution_count": 65,
   "id": "68dd0049",
   "metadata": {},
   "outputs": [
    {
     "data": {
      "text/plain": [
       "City\n",
       "Bangalore    2228\n",
       "Pune         1268\n",
       "New Delhi    1157\n",
       "Name: count, dtype: int64"
      ]
     },
     "execution_count": 65,
     "metadata": {},
     "output_type": "execute_result"
    }
   ],
   "source": [
    "df['City'].value_counts()"
   ]
  },
  {
   "cell_type": "markdown",
   "id": "54dfc3dd",
   "metadata": {},
   "source": [
    "# KMeans Clustering algorithm"
   ]
  },
  {
   "cell_type": "code",
   "execution_count": 74,
   "id": "1df2bbff",
   "metadata": {},
   "outputs": [
    {
     "data": {
      "text/html": [
       "<div>\n",
       "<style scoped>\n",
       "    .dataframe tbody tr th:only-of-type {\n",
       "        vertical-align: middle;\n",
       "    }\n",
       "\n",
       "    .dataframe tbody tr th {\n",
       "        vertical-align: top;\n",
       "    }\n",
       "\n",
       "    .dataframe thead th {\n",
       "        text-align: right;\n",
       "    }\n",
       "</style>\n",
       "<table border=\"1\" class=\"dataframe\">\n",
       "  <thead>\n",
       "    <tr style=\"text-align: right;\">\n",
       "      <th></th>\n",
       "      <th>PaymentTier</th>\n",
       "      <th>ExperienceInCurrentDomain</th>\n",
       "    </tr>\n",
       "  </thead>\n",
       "  <tbody>\n",
       "    <tr>\n",
       "      <th>0</th>\n",
       "      <td>3</td>\n",
       "      <td>0</td>\n",
       "    </tr>\n",
       "    <tr>\n",
       "      <th>1</th>\n",
       "      <td>1</td>\n",
       "      <td>3</td>\n",
       "    </tr>\n",
       "    <tr>\n",
       "      <th>2</th>\n",
       "      <td>3</td>\n",
       "      <td>2</td>\n",
       "    </tr>\n",
       "  </tbody>\n",
       "</table>\n",
       "</div>"
      ],
      "text/plain": [
       "   PaymentTier  ExperienceInCurrentDomain\n",
       "0            3                          0\n",
       "1            1                          3\n",
       "2            3                          2"
      ]
     },
     "execution_count": 74,
     "metadata": {},
     "output_type": "execute_result"
    }
   ],
   "source": [
    "df_Bangalore_Cont =df_Bangalore [['PaymentTier', 'ExperienceInCurrentDomain']]\n",
    "df_Bangalore_Cont.head(3)"
   ]
  },
  {
   "cell_type": "code",
   "execution_count": 75,
   "id": "d2b62d33",
   "metadata": {},
   "outputs": [],
   "source": [
    "from sklearn.preprocessing import StandardScaler\n",
    "\n",
    "ss = StandardScaler()\n",
    "ss = ss.fit_transform(df_Bangalore_Cont)"
   ]
  },
  {
   "cell_type": "code",
   "execution_count": 87,
   "id": "ea7426d7",
   "metadata": {},
   "outputs": [],
   "source": [
    "from sklearn.cluster import KMeans\n",
    "wcss = []\n",
    "for i in range(1, 10):\n",
    "    kmeans = KMeans(n_clusters=i, init='k-means++', max_iter=300, n_init=10, random_state=0)\n",
    "    kmeans.fit(ss)\n",
    "    wcss.append(kmeans.inertia_)"
   ]
  },
  {
   "cell_type": "code",
   "execution_count": 88,
   "id": "a9da12d7",
   "metadata": {},
   "outputs": [
    {
     "data": {
      "text/plain": [
       "[<matplotlib.lines.Line2D at 0x2043c38bd50>]"
      ]
     },
     "execution_count": 88,
     "metadata": {},
     "output_type": "execute_result"
    },
    {
     "data": {
      "image/png": "[encoded data removed]",
      "text/plain": [
       "<Figure size 640x480 with 1 Axes>"
      ]
     },
     "metadata": {},
     "output_type": "display_data"
    }
   ],
   "source": [
    "plt.plot(range(1,10),wcss)"
   ]
  },
  {
   "cell_type": "code",
   "execution_count": 89,
   "id": "855d9f5f",
   "metadata": {},
   "outputs": [],
   "source": [
    "kmeans = KMeans(n_clusters=4, init='k-means++', max_iter=300, n_init=10, random_state=0)\n",
    "clusters = kmeans.fit_predict(ss)\n",
    "\n",
    "\n",
    "df_Bangalore['Cluster'] = clusters\n",
    "\n",
    "\n",
    "cluster_dataframes = [df_Bangalore[df_Bangalore['Cluster'] == i] for i in range(4)]"
   ]
  },
  {
   "cell_type": "code",
   "execution_count": 90,
   "id": "65651506",
   "metadata": {},
   "outputs": [
    {
     "data": {
      "text/plain": [
       "[      Education  JoiningYear       City  PaymentTier  Age  Gender EverBenched  \\\n",
       " 3       Masters         2016  Bangalore            3   27    Male          No   \n",
       " 10      Masters         2012  Bangalore            3   27    Male          No   \n",
       " 11    Bachelors         2016       Pune            3   34    Male          No   \n",
       " 12    Bachelors         2018       Pune            3   32    Male         Yes   \n",
       " 14    Bachelors         2012  Bangalore            3   37    Male          No   \n",
       " ...         ...          ...        ...          ...  ...     ...         ...   \n",
       " 4643  Bachelors         2013  Bangalore            3   31  Female          No   \n",
       " 4646  Bachelors         2013  Bangalore            3   25  Female          No   \n",
       " 4648  Bachelors         2013  Bangalore            3   26  Female          No   \n",
       " 4650    Masters         2018  New Delhi            3   27    Male          No   \n",
       " 4652  Bachelors         2015  Bangalore            3   33    Male         Yes   \n",
       " \n",
       "       ExperienceInCurrentDomain  LeaveOrNot  Cluster  Clusters  \n",
       " 3                             5           1        0         1  \n",
       " 10                            5           1        0         1  \n",
       " 11                            3           0        0         1  \n",
       " 12                            5           1        0         1  \n",
       " 14                            4           0        0         1  \n",
       " ...                         ...         ...      ...       ...  \n",
       " 4643                          5           0        0         1  \n",
       " 4646                          3           0        0         1  \n",
       " 4648                          4           0        0         1  \n",
       " 4650                          5           1        0         1  \n",
       " 4652                          4           0        0         1  \n",
       " \n",
       " [2012 rows x 11 columns],\n",
       "       Education  JoiningYear       City  PaymentTier  Age  Gender EverBenched  \\\n",
       " 1     Bachelors         2013       Pune            1   28  Female          No   \n",
       " 9       Masters         2017  New Delhi            2   37    Male          No   \n",
       " 15    Bachelors         2017  Bangalore            1   29    Male          No   \n",
       " 18    Bachelors         2015       Pune            2   30  Female          No   \n",
       " 19    Bachelors         2016  New Delhi            2   22  Female          No   \n",
       " ...         ...          ...        ...          ...  ...     ...         ...   \n",
       " 4629  Bachelors         2017  Bangalore            2   35    Male          No   \n",
       " 4634  Bachelors         2016  New Delhi            1   38  Female          No   \n",
       " 4641  Bachelors         2016  Bangalore            1   33  Female          No   \n",
       " 4645    Masters         2017       Pune            2   31  Female          No   \n",
       " 4649    Masters         2013       Pune            2   37    Male          No   \n",
       " \n",
       "       ExperienceInCurrentDomain  LeaveOrNot  Cluster  Clusters  \n",
       " 1                             3           1        1         0  \n",
       " 9                             2           0        1         0  \n",
       " 15                            3           0        1         0  \n",
       " 18                            0           1        1         0  \n",
       " 19                            0           1        1         0  \n",
       " ...                         ...         ...      ...       ...  \n",
       " 4629                          0           0        1         0  \n",
       " 4634                          2           1        1         0  \n",
       " 4641                          0           1        1         0  \n",
       " 4645                          2           0        1         0  \n",
       " 4649                          2           1        1         0  \n",
       " \n",
       " [711 rows x 11 columns],\n",
       "       Education  JoiningYear       City  PaymentTier  Age  Gender EverBenched  \\\n",
       " 0     Bachelors         2017  Bangalore            3   34    Male          No   \n",
       " 2     Bachelors         2014  New Delhi            3   38  Female          No   \n",
       " 4       Masters         2017       Pune            3   24    Male         Yes   \n",
       " 5     Bachelors         2016  Bangalore            3   22    Male          No   \n",
       " 6     Bachelors         2015  New Delhi            3   38    Male          No   \n",
       " ...         ...          ...        ...          ...  ...     ...         ...   \n",
       " 4639  Bachelors         2017  Bangalore            3   28    Male          No   \n",
       " 4640  Bachelors         2015  Bangalore            3   35    Male          No   \n",
       " 4644  Bachelors         2015       Pune            3   32  Female         Yes   \n",
       " 4647  Bachelors         2016       Pune            3   30    Male          No   \n",
       " 4651  Bachelors         2012  Bangalore            3   30    Male         Yes   \n",
       " \n",
       "       ExperienceInCurrentDomain  LeaveOrNot  Cluster  Clusters  \n",
       " 0                             0           0        2         1  \n",
       " 2                             2           0        2         1  \n",
       " 4                             2           1        2         1  \n",
       " 5                             0           0        2         1  \n",
       " 6                             0           0        2         1  \n",
       " ...                         ...         ...      ...       ...  \n",
       " 4639                          0           1        2         1  \n",
       " 4640                          0           0        2         1  \n",
       " 4644                          1           1        2         1  \n",
       " 4647                          2           0        2         1  \n",
       " 4651                          2           0        2         1  \n",
       " \n",
       " [1480 rows x 11 columns],\n",
       "       Education  JoiningYear       City  PaymentTier  Age  Gender EverBenched  \\\n",
       " 21      Masters         2017  New Delhi            2   28    Male          No   \n",
       " 51    Bachelors         2015       Pune            2   26  Female          No   \n",
       " 73    Bachelors         2014  Bangalore            1   27    Male          No   \n",
       " 86    Bachelors         2017       Pune            2   27  Female          No   \n",
       " 87      Masters         2015       Pune            2   32  Female          No   \n",
       " ...         ...          ...        ...          ...  ...     ...         ...   \n",
       " 4528  Bachelors         2013       Pune            2   36    Male          No   \n",
       " 4543  Bachelors         2017  New Delhi            2   26  Female          No   \n",
       " 4568    Masters         2017  New Delhi            2   39  Female          No   \n",
       " 4620  Bachelors         2015       Pune            2   38  Female          No   \n",
       " 4622  Bachelors         2017       Pune            1   30    Male          No   \n",
       " \n",
       "       ExperienceInCurrentDomain  LeaveOrNot  Cluster  Clusters  \n",
       " 21                            4           0        3         0  \n",
       " 51                            4           1        3         0  \n",
       " 73                            5           0        3         0  \n",
       " 86                            5           1        3         0  \n",
       " 87                            4           0        3         0  \n",
       " ...                         ...         ...      ...       ...  \n",
       " 4528                          4           0        3         0  \n",
       " 4543                          4           0        3         0  \n",
       " 4568                          4           0        3         0  \n",
       " 4620                          4           1        3         0  \n",
       " 4622                          4           0        3         0  \n",
       " \n",
       " [450 rows x 11 columns]]"
      ]
     },
     "execution_count": 90,
     "metadata": {},
     "output_type": "execute_result"
    }
   ],
   "source": [
    "cluster_dataframes"
   ]
  },
  {
   "cell_type": "code",
   "execution_count": 91,
   "id": "b26a2934",
   "metadata": {},
   "outputs": [
    {
     "data": {
      "image/png": "[encoded data removed]",
      "text/plain": [
       "<Figure size 640x480 with 1 Axes>"
      ]
     },
     "metadata": {},
     "output_type": "display_data"
    }
   ],
   "source": [
    "for i, cluster_df in enumerate(cluster_dataframes):\n",
    "    plt.scatter(cluster_df['PaymentTier'], cluster_df['ExperienceInCurrentDomain'], label=f'Cluster {i + 1}')\n",
    "\n",
    "plt.xlabel('PaymentTier')\n",
    "plt.ylabel('ExperienceInCurrentDomain(k$)')\n",
    "plt.title('K-Means Clustering (K=4)')\n",
    "plt.legend()\n",
    "plt.show()"
   ]
  },
  {
   "cell_type": "code",
   "execution_count": 92,
   "id": "70162048",
   "metadata": {},
   "outputs": [
    {
     "ename": "IndexError",
     "evalue": "list index out of range",
     "output_type": "error",
     "traceback": [
      "\u001b[1;31m---------------------------------------------------------------------------\u001b[0m",
      "\u001b[1;31mIndexError\u001b[0m                                Traceback (most recent call last)",
      "Cell \u001b[1;32mIn[92], line 4\u001b[0m\n\u001b[0;32m      1\u001b[0m diff_wcss \u001b[38;5;241m=\u001b[39m []\n\u001b[0;32m      3\u001b[0m \u001b[38;5;28;01mfor\u001b[39;00m i \u001b[38;5;129;01min\u001b[39;00m \u001b[38;5;28mrange\u001b[39m(\u001b[38;5;241m0\u001b[39m,\u001b[38;5;241m10\u001b[39m):\n\u001b[1;32m----> 4\u001b[0m     diff_wcss\u001b[38;5;241m.\u001b[39mappend(wcss[i]\u001b[38;5;241m-\u001b[39mwcss[i\u001b[38;5;241m+\u001b[39m\u001b[38;5;241m1\u001b[39m])\n\u001b[0;32m      6\u001b[0m diff_wcss\n",
      "\u001b[1;31mIndexError\u001b[0m: list index out of range"
     ]
    }
   ],
   "source": [
    "diff_wcss = []\n",
    "\n",
    "for i in range(0,10):\n",
    "    diff_wcss.append(wcss[i]-wcss[i+1])\n",
    "    \n",
    "diff_wcss"
   ]
  },
  {
   "cell_type": "code",
   "execution_count": 81,
   "id": "0409c7fc",
   "metadata": {},
   "outputs": [
    {
     "name": "stderr",
     "output_type": "stream",
     "text": [
      "C:\\ProgramData\\anaconda3\\Lib\\site-packages\\sklearn\\cluster\\_kmeans.py:1412: FutureWarning: The default value of `n_init` will change from 10 to 'auto' in 1.4. Set the value of `n_init` explicitly to suppress the warning\n",
      "  super()._check_params_vs_input(X, default_n_init=10)\n"
     ]
    },
    {
     "name": "stdout",
     "output_type": "stream",
     "text": [
      "0.5258380822325687\n"
     ]
    },
    {
     "name": "stderr",
     "output_type": "stream",
     "text": [
      "C:\\ProgramData\\anaconda3\\Lib\\site-packages\\sklearn\\cluster\\_kmeans.py:1412: FutureWarning: The default value of `n_init` will change from 10 to 'auto' in 1.4. Set the value of `n_init` explicitly to suppress the warning\n",
      "  super()._check_params_vs_input(X, default_n_init=10)\n"
     ]
    },
    {
     "name": "stdout",
     "output_type": "stream",
     "text": [
      "0.579547488883021\n"
     ]
    },
    {
     "name": "stderr",
     "output_type": "stream",
     "text": [
      "C:\\ProgramData\\anaconda3\\Lib\\site-packages\\sklearn\\cluster\\_kmeans.py:1412: FutureWarning: The default value of `n_init` will change from 10 to 'auto' in 1.4. Set the value of `n_init` explicitly to suppress the warning\n",
      "  super()._check_params_vs_input(X, default_n_init=10)\n"
     ]
    },
    {
     "name": "stdout",
     "output_type": "stream",
     "text": [
      "0.6079627396008264\n"
     ]
    },
    {
     "name": "stderr",
     "output_type": "stream",
     "text": [
      "C:\\ProgramData\\anaconda3\\Lib\\site-packages\\sklearn\\cluster\\_kmeans.py:1412: FutureWarning: The default value of `n_init` will change from 10 to 'auto' in 1.4. Set the value of `n_init` explicitly to suppress the warning\n",
      "  super()._check_params_vs_input(X, default_n_init=10)\n"
     ]
    },
    {
     "name": "stdout",
     "output_type": "stream",
     "text": [
      "0.6419516461101411\n"
     ]
    },
    {
     "name": "stderr",
     "output_type": "stream",
     "text": [
      "C:\\ProgramData\\anaconda3\\Lib\\site-packages\\sklearn\\cluster\\_kmeans.py:1412: FutureWarning: The default value of `n_init` will change from 10 to 'auto' in 1.4. Set the value of `n_init` explicitly to suppress the warning\n",
      "  super()._check_params_vs_input(X, default_n_init=10)\n"
     ]
    },
    {
     "name": "stdout",
     "output_type": "stream",
     "text": [
      "0.6746280390653981\n"
     ]
    },
    {
     "name": "stderr",
     "output_type": "stream",
     "text": [
      "C:\\ProgramData\\anaconda3\\Lib\\site-packages\\sklearn\\cluster\\_kmeans.py:1412: FutureWarning: The default value of `n_init` will change from 10 to 'auto' in 1.4. Set the value of `n_init` explicitly to suppress the warning\n",
      "  super()._check_params_vs_input(X, default_n_init=10)\n"
     ]
    },
    {
     "name": "stdout",
     "output_type": "stream",
     "text": [
      "0.7017094757809681\n"
     ]
    },
    {
     "name": "stderr",
     "output_type": "stream",
     "text": [
      "C:\\ProgramData\\anaconda3\\Lib\\site-packages\\sklearn\\cluster\\_kmeans.py:1412: FutureWarning: The default value of `n_init` will change from 10 to 'auto' in 1.4. Set the value of `n_init` explicitly to suppress the warning\n",
      "  super()._check_params_vs_input(X, default_n_init=10)\n"
     ]
    },
    {
     "name": "stdout",
     "output_type": "stream",
     "text": [
      "0.7382593724034113\n"
     ]
    }
   ],
   "source": [
    "from sklearn.metrics import silhouette_samples, silhouette_score\n",
    "\n",
    "for i in range(2,9):\n",
    "    KM = KMeans(n_clusters = i,random_state = 1)\n",
    "    KM.fit(ss)\n",
    "    labels = KM.labels_\n",
    "    print(silhouette_score(ss,labels, random_state = 1))"
   ]
  },
  {
   "cell_type": "code",
   "execution_count": 93,
   "id": "0531b2cc",
   "metadata": {},
   "outputs": [
    {
     "name": "stderr",
     "output_type": "stream",
     "text": [
      "C:\\ProgramData\\anaconda3\\Lib\\site-packages\\sklearn\\cluster\\_kmeans.py:1412: FutureWarning: The default value of `n_init` will change from 10 to 'auto' in 1.4. Set the value of `n_init` explicitly to suppress the warning\n",
      "  super()._check_params_vs_input(X, default_n_init=10)\n"
     ]
    },
    {
     "data": {
      "text/html": [
       "<div>\n",
       "<style scoped>\n",
       "    .dataframe tbody tr th:only-of-type {\n",
       "        vertical-align: middle;\n",
       "    }\n",
       "\n",
       "    .dataframe tbody tr th {\n",
       "        vertical-align: top;\n",
       "    }\n",
       "\n",
       "    .dataframe thead th {\n",
       "        text-align: right;\n",
       "    }\n",
       "</style>\n",
       "<table border=\"1\" class=\"dataframe\">\n",
       "  <thead>\n",
       "    <tr style=\"text-align: right;\">\n",
       "      <th></th>\n",
       "      <th>Education</th>\n",
       "      <th>JoiningYear</th>\n",
       "      <th>City</th>\n",
       "      <th>PaymentTier</th>\n",
       "      <th>Age</th>\n",
       "      <th>Gender</th>\n",
       "      <th>EverBenched</th>\n",
       "      <th>ExperienceInCurrentDomain</th>\n",
       "      <th>LeaveOrNot</th>\n",
       "      <th>Cluster</th>\n",
       "      <th>Clusters</th>\n",
       "    </tr>\n",
       "  </thead>\n",
       "  <tbody>\n",
       "    <tr>\n",
       "      <th>0</th>\n",
       "      <td>Bachelors</td>\n",
       "      <td>2017</td>\n",
       "      <td>Bangalore</td>\n",
       "      <td>3</td>\n",
       "      <td>34</td>\n",
       "      <td>Male</td>\n",
       "      <td>No</td>\n",
       "      <td>0</td>\n",
       "      <td>0</td>\n",
       "      <td>2</td>\n",
       "      <td>0</td>\n",
       "    </tr>\n",
       "    <tr>\n",
       "      <th>1</th>\n",
       "      <td>Bachelors</td>\n",
       "      <td>2013</td>\n",
       "      <td>Pune</td>\n",
       "      <td>1</td>\n",
       "      <td>28</td>\n",
       "      <td>Female</td>\n",
       "      <td>No</td>\n",
       "      <td>3</td>\n",
       "      <td>1</td>\n",
       "      <td>1</td>\n",
       "      <td>1</td>\n",
       "    </tr>\n",
       "    <tr>\n",
       "      <th>2</th>\n",
       "      <td>Bachelors</td>\n",
       "      <td>2014</td>\n",
       "      <td>New Delhi</td>\n",
       "      <td>3</td>\n",
       "      <td>38</td>\n",
       "      <td>Female</td>\n",
       "      <td>No</td>\n",
       "      <td>2</td>\n",
       "      <td>0</td>\n",
       "      <td>2</td>\n",
       "      <td>0</td>\n",
       "    </tr>\n",
       "    <tr>\n",
       "      <th>3</th>\n",
       "      <td>Masters</td>\n",
       "      <td>2016</td>\n",
       "      <td>Bangalore</td>\n",
       "      <td>3</td>\n",
       "      <td>27</td>\n",
       "      <td>Male</td>\n",
       "      <td>No</td>\n",
       "      <td>5</td>\n",
       "      <td>1</td>\n",
       "      <td>0</td>\n",
       "      <td>0</td>\n",
       "    </tr>\n",
       "    <tr>\n",
       "      <th>4</th>\n",
       "      <td>Masters</td>\n",
       "      <td>2017</td>\n",
       "      <td>Pune</td>\n",
       "      <td>3</td>\n",
       "      <td>24</td>\n",
       "      <td>Male</td>\n",
       "      <td>Yes</td>\n",
       "      <td>2</td>\n",
       "      <td>1</td>\n",
       "      <td>2</td>\n",
       "      <td>0</td>\n",
       "    </tr>\n",
       "  </tbody>\n",
       "</table>\n",
       "</div>"
      ],
      "text/plain": [
       "   Education  JoiningYear       City  PaymentTier  Age  Gender EverBenched  \\\n",
       "0  Bachelors         2017  Bangalore            3   34    Male          No   \n",
       "1  Bachelors         2013       Pune            1   28  Female          No   \n",
       "2  Bachelors         2014  New Delhi            3   38  Female          No   \n",
       "3    Masters         2016  Bangalore            3   27    Male          No   \n",
       "4    Masters         2017       Pune            3   24    Male         Yes   \n",
       "\n",
       "   ExperienceInCurrentDomain  LeaveOrNot  Cluster  Clusters  \n",
       "0                          0           0        2         0  \n",
       "1                          3           1        1         1  \n",
       "2                          2           0        2         0  \n",
       "3                          5           1        0         0  \n",
       "4                          2           1        2         0  "
      ]
     },
     "execution_count": 93,
     "metadata": {},
     "output_type": "execute_result"
    }
   ],
   "source": [
    "mod2 = KMeans(n_clusters = 2)\n",
    "mod2 = mod2.fit(ss)\n",
    "\n",
    "df_Bangalore['Clusters'] = mod2.labels_\n",
    "\n",
    "df_Bangalore.head()"
   ]
  },
  {
   "cell_type": "code",
   "execution_count": 94,
   "id": "bddadf43",
   "metadata": {},
   "outputs": [
    {
     "data": {
      "text/plain": [
       "array([[ 0.53750299,  0.00725304],\n",
       "       [-1.61667567, -0.02181535]])"
      ]
     },
     "execution_count": 94,
     "metadata": {},
     "output_type": "execute_result"
    }
   ],
   "source": [
    "centroids = mod2.cluster_centers_\n",
    "centroids"
   ]
  },
  {
   "cell_type": "code",
   "execution_count": 95,
   "id": "5e8ce7b8",
   "metadata": {},
   "outputs": [
    {
     "data": {
      "image/png": "[encoded data removed]",
      "text/plain": [
       "<Figure size 1000x1000 with 1 Axes>"
      ]
     },
     "metadata": {},
     "output_type": "display_data"
    }
   ],
   "source": [
    "plt.figure(figsize = (10,10))\n",
    "\n",
    "plt.scatter (ss[:, 0], ss[:, 1], c =  df_Bangalore['Clusters'], cmap = 'viridis')\n",
    "\n",
    "plt.scatter(centroids[:,0], centroids [:,1], marker = 'X', s = 100, c = 'red', label = 'Centroids')\n",
    "\n",
    "plt.legend(['Data', 'Centroid'])\n",
    "plt.title('Graph representing the Centroid and Scaled Data Points for PaymentTier and ExperienceInCurrentDomain')\n",
    "plt.show()"
   ]
  },
  {
   "cell_type": "code",
   "execution_count": null,
   "id": "3bfd95fb",
   "metadata": {},
   "outputs": [],
   "source": []
  }
 ],
 "metadata": {
  "kernelspec": {
   "display_name": "Python 3 (ipykernel)",
   "language": "python",
   "name": "python3"
  },
  "language_info": {
   "codemirror_mode": {
    "name": "ipython",
    "version": 3
   },
   "file_extension": ".py",
   "mimetype": "text/x-python",
   "name": "python",
   "nbconvert_exporter": "python",
   "pygments_lexer": "ipython3",
   "version": "3.11.5"
  }
 },
 "nbformat": 4,
 "nbformat_minor": 5
}
